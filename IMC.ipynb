{
  "nbformat": 4,
  "nbformat_minor": 0,
  "metadata": {
    "colab": {
      "name": "IMC",
      "provenance": [],
      "authorship_tag": "ABX9TyMLc/dHW6cBFDjxRBSmrt5L",
      "include_colab_link": true
    },
    "kernelspec": {
      "name": "python3",
      "display_name": "Python 3"
    },
    "language_info": {
      "name": "python"
    }
  },
  "cells": [
    {
      "cell_type": "markdown",
      "metadata": {
        "id": "view-in-github",
        "colab_type": "text"
      },
      "source": [
        "<a href=\"https://colab.research.google.com/github/erick-gct/POE-5-1/blob/main/IMC.ipynb\" target=\"_parent\"><img src=\"https://colab.research.google.com/assets/colab-badge.svg\" alt=\"Open In Colab\"/></a>"
      ]
    },
    {
      "cell_type": "code",
      "execution_count": 1,
      "metadata": {
        "colab": {
          "base_uri": "https://localhost:8080/"
        },
        "id": "oOCupDV82kDL",
        "outputId": "9d51b0d1-556a-48e1-9afc-68fdea70f116"
      },
      "outputs": [
        {
          "output_type": "stream",
          "name": "stdout",
          "text": [
            "22.59814049586777\n"
          ]
        }
      ],
      "source": [
        "#@title Calculo del Indice de Masa Corporal {run: \"auto\", vertical-output: true}\n",
        "Estatura =  1.76#@param {type:\"number\"}\n",
        "Peso =  70#@param {type:\"number\"}\n",
        "print((Peso)/(Estatura*Estatura))"
      ]
    }
  ]
}